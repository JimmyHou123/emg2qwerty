{
  "nbformat": 4,
  "nbformat_minor": 0,
  "metadata": {
    "colab": {
      "provenance": [],
      "gpuType": "L4",
      "machine_shape": "hm"
    },
    "kernelspec": {
      "name": "python3",
      "display_name": "Python 3"
    },
    "language_info": {
      "name": "python"
    },
    "accelerator": "GPU"
  },
  "cells": [
    {
      "cell_type": "code",
      "source": [
        "from google.colab import drive\n",
        "drive.mount('/content/drive')"
      ],
      "metadata": {
        "colab": {
          "base_uri": "https://localhost:8080/"
        },
        "id": "2l7Dhk4qJCl7",
        "outputId": "a14550b7-2c1b-40f1-a012-0872d67f8db9"
      },
      "execution_count": null,
      "outputs": [
        {
          "output_type": "stream",
          "name": "stdout",
          "text": [
            "Mounted at /content/drive\n"
          ]
        }
      ]
    },
    {
      "cell_type": "code",
      "source": [
        "import os\n",
        "import glob\n",
        "import h5py\n",
        "import numpy as np\n",
        "from scipy.signal import decimate, resample"
      ],
      "metadata": {
        "id": "qddpX9VpI1di"
      },
      "execution_count": null,
      "outputs": []
    },
    {
      "cell_type": "code",
      "source": [
        "def downsample_then_upsample_hdf5(in_filepath, out_filepath, factor=2):\n",
        "    \"\"\"\n",
        "    Downsamples the EMG data in 'emg2qwerty/timeseries' by a given factor,\n",
        "    then upsamples it back to the original number of samples.\n",
        "\n",
        "    The structured array is assumed to have fields:\n",
        "      - 'emg_right' with shape (16,)\n",
        "      - 'emg_left'  with shape (16,)\n",
        "      - 'time'      as a single float\n",
        "\n",
        "    Args:\n",
        "        in_filepath (str): Path to the original HDF5 file.\n",
        "        out_filepath (str): Path to the output HDF5 file.\n",
        "        factor (int): Downsampling factor.\n",
        "    \"\"\"\n",
        "    with h5py.File(in_filepath, 'r') as f_in:\n",
        "\n",
        "        orig_grp = f_in[\"emg2qwerty\"]\n",
        "        arr = orig_grp[\"timeseries\"][:]\n",
        "\n",
        "        orig_N = arr.shape[0]\n",
        "\n",
        "        emg_right = arr[\"emg_right\"]  # shape: (orig_N, 16)\n",
        "        emg_left  = arr[\"emg_left\"]   # shape: (orig_N, 16)\n",
        "        time_data = arr[\"time\"]       # shape: (orig_N,)\n",
        "\n",
        "        ds_emg_right = decimate(emg_right, q=factor, axis=0, zero_phase=True)\n",
        "        ds_emg_left  = decimate(emg_left,  q=factor, axis=0, zero_phase=True)\n",
        "\n",
        "        ds_time = time_data[::factor]\n",
        "\n",
        "        us_emg_right = resample(ds_emg_right, orig_N, axis=0)\n",
        "        us_emg_left  = resample(ds_emg_left,  orig_N, axis=0)\n",
        "\n",
        "        new_time = time_data\n",
        "\n",
        "        new_arr = np.empty(orig_N, dtype=arr.dtype)\n",
        "        new_arr[\"emg_right\"] = us_emg_right\n",
        "        new_arr[\"emg_left\"]  = us_emg_left\n",
        "        new_arr[\"time\"]      = new_time\n",
        "\n",
        "        with h5py.File(out_filepath, 'w') as f_out:\n",
        "            new_grp = f_out.create_group(\"emg2qwerty\")\n",
        "            for attr in orig_grp.attrs:\n",
        "                new_grp.attrs[attr] = orig_grp.attrs[attr]\n",
        "            if \"metadata\" in orig_grp:\n",
        "                orig_grp.copy(\"metadata\", new_grp)\n",
        "            new_grp.create_dataset(\"timeseries\", data=new_arr)\n",
        "\n",
        "            for key in f_in.keys():\n",
        "                if key != \"emg2qwerty\":\n",
        "                    f_in.copy(key, f_out)\n",
        "\n",
        "    print(f\"Downsampling then upsampling complete. File saved as: {out_filepath}\")"
      ],
      "metadata": {
        "id": "nHQeuNzmc_fR"
      },
      "execution_count": null,
      "outputs": []
    },
    {
      "cell_type": "code",
      "source": [
        "def batch_downsample_then_upsample(input_folder, output_folder, factor=2):\n",
        "    \"\"\"\n",
        "    Processes all HDF5 files in input_folder, applies downsampling then upsampling,\n",
        "    and saves each processed file to output_folder with \"_ds\" appended to the filename.\n",
        "    It skips processing for the two specified validation/testing files.\n",
        "\n",
        "    Args:\n",
        "        input_folder (str): Folder containing the original HDF5 files.\n",
        "        output_folder (str): Folder to save the processed HDF5 files.\n",
        "        factor (int): Downsampling factor.\n",
        "    \"\"\"\n",
        "    if not os.path.exists(output_folder):\n",
        "        os.makedirs(output_folder)\n",
        "\n",
        "    # Files to skip (validation/testing files)\n",
        "    skip_files = {\n",
        "        \"2021-06-04-1622862148-keystrokes-dca-study@1-0efbe614-9ae6-4131-9192-4398359b4f5f.hdf5\",\n",
        "        \"2021-06-02-1622682789-keystrokes-dca-study@1-0efbe614-9ae6-4131-9192-4398359b4f5f.hdf5\"\n",
        "    }\n",
        "\n",
        "    hdf5_files = glob.glob(os.path.join(input_folder, \"*.hdf5\"))\n",
        "    if not hdf5_files:\n",
        "        print(\"No HDF5 files found in\", input_folder)\n",
        "        return\n",
        "\n",
        "    for in_filepath in hdf5_files:\n",
        "        filename = os.path.basename(in_filepath)\n",
        "        if filename in skip_files:\n",
        "            print(f\"Skipping validation/testing file: {filename}\")\n",
        "            continue\n",
        "\n",
        "        # Append '_ds' before the .hdf5 extension\n",
        "        if filename.endswith(\".hdf5\"):\n",
        "            out_filename = filename[:-5] + \"_ds.hdf5\"\n",
        "        else:\n",
        "            out_filename = filename + \"_ds\"\n",
        "        out_filepath = os.path.join(output_folder, out_filename)\n",
        "\n",
        "        downsample_then_upsample_hdf5(in_filepath, out_filepath, factor=factor)"
      ],
      "metadata": {
        "id": "5Cnqavgruf5p"
      },
      "execution_count": null,
      "outputs": []
    },
    {
      "cell_type": "code",
      "source": [
        "# Example usage in a Jupyter Notebook cell:\n",
        "input_folder = \"/content/drive/MyDrive/C147_down_up/data\"    # Update this with the path to your original data\n",
        "output_folder = \"/content/drive/MyDrive/C147_down_up/data\"   # Update this with the path for saving processed files\n",
        "batch_downsample_then_upsample(input_folder, output_folder, factor=2)"
      ],
      "metadata": {
        "id": "kxBpSZ9Euhuk",
        "colab": {
          "base_uri": "https://localhost:8080/"
        },
        "outputId": "7b676891-19dc-4966-c962-2b6d882f3881"
      },
      "execution_count": null,
      "outputs": [
        {
          "output_type": "stream",
          "name": "stdout",
          "text": [
            "Downsampling then upsampling complete. File saved as: /content/drive/MyDrive/C147_down_up/data/2021-07-21-1626916256-keystrokes-dca-study@1-0efbe614-9ae6-4131-9192-4398359b4f5f_ds.hdf5\n",
            "Downsampling then upsampling complete. File saved as: /content/drive/MyDrive/C147_down_up/data/2021-07-21-1626915176-keystrokes-dca-study@1-0efbe614-9ae6-4131-9192-4398359b4f5f_ds.hdf5\n",
            "Downsampling then upsampling complete. File saved as: /content/drive/MyDrive/C147_down_up/data/2021-07-21-1626917264-keystrokes-dca-study@1-0efbe614-9ae6-4131-9192-4398359b4f5f_ds.hdf5\n",
            "Downsampling then upsampling complete. File saved as: /content/drive/MyDrive/C147_down_up/data/2021-06-02-1622679967-keystrokes-dca-study@1-0efbe614-9ae6-4131-9192-4398359b4f5f_ds.hdf5\n",
            "Downsampling then upsampling complete. File saved as: /content/drive/MyDrive/C147_down_up/data/2021-06-02-1622681518-keystrokes-dca-study@1-0efbe614-9ae6-4131-9192-4398359b4f5f_ds.hdf5\n",
            "Skipping validation/testing file: 2021-06-02-1622682789-keystrokes-dca-study@1-0efbe614-9ae6-4131-9192-4398359b4f5f.hdf5\n",
            "Downsampling then upsampling complete. File saved as: /content/drive/MyDrive/C147_down_up/data/2021-06-03-1622764398-keystrokes-dca-study@1-0efbe614-9ae6-4131-9192-4398359b4f5f_ds.hdf5\n",
            "Downsampling then upsampling complete. File saved as: /content/drive/MyDrive/C147_down_up/data/2021-06-03-1622765527-keystrokes-dca-study@1-0efbe614-9ae6-4131-9192-4398359b4f5f_ds.hdf5\n",
            "Downsampling then upsampling complete. File saved as: /content/drive/MyDrive/C147_down_up/data/2021-06-03-1622766673-keystrokes-dca-study@1-0efbe614-9ae6-4131-9192-4398359b4f5f_ds.hdf5\n",
            "Downsampling then upsampling complete. File saved as: /content/drive/MyDrive/C147_down_up/data/2021-06-04-1622861066-keystrokes-dca-study@1-0efbe614-9ae6-4131-9192-4398359b4f5f_ds.hdf5\n",
            "Downsampling then upsampling complete. File saved as: /content/drive/MyDrive/C147_down_up/data/2021-06-04-1622863166-keystrokes-dca-study@1-0efbe614-9ae6-4131-9192-4398359b4f5f_ds.hdf5\n",
            "Skipping validation/testing file: 2021-06-04-1622862148-keystrokes-dca-study@1-0efbe614-9ae6-4131-9192-4398359b4f5f.hdf5\n",
            "Downsampling then upsampling complete. File saved as: /content/drive/MyDrive/C147_down_up/data/2021-06-05-1622884635-keystrokes-dca-study@1-0efbe614-9ae6-4131-9192-4398359b4f5f_ds.hdf5\n",
            "Downsampling then upsampling complete. File saved as: /content/drive/MyDrive/C147_down_up/data/2021-06-05-1622885888-keystrokes-dca-study@1-0efbe614-9ae6-4131-9192-4398359b4f5f_ds.hdf5\n",
            "Downsampling then upsampling complete. File saved as: /content/drive/MyDrive/C147_down_up/data/2021-06-05-1622889105-keystrokes-dca-study@1-0efbe614-9ae6-4131-9192-4398359b4f5f_ds.hdf5\n",
            "Downsampling then upsampling complete. File saved as: /content/drive/MyDrive/C147_down_up/data/2021-07-22-1627003020-keystrokes-dca-study@1-0efbe614-9ae6-4131-9192-4398359b4f5f_ds.hdf5\n",
            "Downsampling then upsampling complete. File saved as: /content/drive/MyDrive/C147_down_up/data/2021-07-22-1627001995-keystrokes-dca-study@1-0efbe614-9ae6-4131-9192-4398359b4f5f_ds.hdf5\n",
            "Downsampling then upsampling complete. File saved as: /content/drive/MyDrive/C147_down_up/data/2021-07-22-1627004019-keystrokes-dca-study@1-0efbe614-9ae6-4131-9192-4398359b4f5f_ds.hdf5\n",
            "Downsampling then upsampling complete. File saved as: /content/drive/MyDrive/C147_down_up/data/2021-06-02-1622681518-keystrokes-dca-study@1-0efbe614-9ae6-4131-9192-4398359b4f5f_ds_ds.hdf5\n",
            "Downsampling then upsampling complete. File saved as: /content/drive/MyDrive/C147_down_up/data/2021-06-03-1622765527-keystrokes-dca-study@1-0efbe614-9ae6-4131-9192-4398359b4f5f_ds_ds.hdf5\n",
            "Downsampling then upsampling complete. File saved as: /content/drive/MyDrive/C147_down_up/data/2021-06-04-1622863166-keystrokes-dca-study@1-0efbe614-9ae6-4131-9192-4398359b4f5f_ds_ds.hdf5\n",
            "Downsampling then upsampling complete. File saved as: /content/drive/MyDrive/C147_down_up/data/2021-07-21-1626916256-keystrokes-dca-study@1-0efbe614-9ae6-4131-9192-4398359b4f5f_ds_ds.hdf5\n",
            "Downsampling then upsampling complete. File saved as: /content/drive/MyDrive/C147_down_up/data/2021-07-22-1627003020-keystrokes-dca-study@1-0efbe614-9ae6-4131-9192-4398359b4f5f_ds_ds.hdf5\n",
            "Downsampling then upsampling complete. File saved as: /content/drive/MyDrive/C147_down_up/data/2021-07-22-1627004019-keystrokes-dca-study@1-0efbe614-9ae6-4131-9192-4398359b4f5f_ds_ds.hdf5\n",
            "Downsampling then upsampling complete. File saved as: /content/drive/MyDrive/C147_down_up/data/2021-06-03-1622764398-keystrokes-dca-study@1-0efbe614-9ae6-4131-9192-4398359b4f5f_ds_ds.hdf5\n",
            "Downsampling then upsampling complete. File saved as: /content/drive/MyDrive/C147_down_up/data/2021-06-02-1622679967-keystrokes-dca-study@1-0efbe614-9ae6-4131-9192-4398359b4f5f_ds_ds.hdf5\n",
            "Downsampling then upsampling complete. File saved as: /content/drive/MyDrive/C147_down_up/data/2021-06-05-1622885888-keystrokes-dca-study@1-0efbe614-9ae6-4131-9192-4398359b4f5f_ds_ds.hdf5\n",
            "Downsampling then upsampling complete. File saved as: /content/drive/MyDrive/C147_down_up/data/2021-06-03-1622766673-keystrokes-dca-study@1-0efbe614-9ae6-4131-9192-4398359b4f5f_ds_ds.hdf5\n",
            "Downsampling then upsampling complete. File saved as: /content/drive/MyDrive/C147_down_up/data/2021-06-05-1622889105-keystrokes-dca-study@1-0efbe614-9ae6-4131-9192-4398359b4f5f_ds_ds.hdf5\n",
            "Downsampling then upsampling complete. File saved as: /content/drive/MyDrive/C147_down_up/data/2021-07-21-1626917264-keystrokes-dca-study@1-0efbe614-9ae6-4131-9192-4398359b4f5f_ds_ds.hdf5\n",
            "Downsampling then upsampling complete. File saved as: /content/drive/MyDrive/C147_down_up/data/2021-07-22-1627001995-keystrokes-dca-study@1-0efbe614-9ae6-4131-9192-4398359b4f5f_ds_ds.hdf5\n",
            "Downsampling then upsampling complete. File saved as: /content/drive/MyDrive/C147_down_up/data/2021-06-04-1622861066-keystrokes-dca-study@1-0efbe614-9ae6-4131-9192-4398359b4f5f_ds_ds.hdf5\n",
            "Downsampling then upsampling complete. File saved as: /content/drive/MyDrive/C147_down_up/data/2021-06-05-1622884635-keystrokes-dca-study@1-0efbe614-9ae6-4131-9192-4398359b4f5f_ds_ds.hdf5\n",
            "Downsampling then upsampling complete. File saved as: /content/drive/MyDrive/C147_down_up/data/2021-07-21-1626915176-keystrokes-dca-study@1-0efbe614-9ae6-4131-9192-4398359b4f5f_ds_ds.hdf5\n"
          ]
        }
      ]
    },
    {
      "cell_type": "code",
      "source": [],
      "metadata": {
        "id": "A1rZBURixEPF"
      },
      "execution_count": null,
      "outputs": []
    }
  ]
}